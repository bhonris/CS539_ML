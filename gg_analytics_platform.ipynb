{
 "cells": [
  {
   "cell_type": "code",
   "execution_count": 1,
   "metadata": {},
   "outputs": [],
   "source": [
    "import os\n",
    "#os.getcwd()\n",
    "os.chdir(\"/Users/JidaThada/Desktop/2018 Fall/Machine Learning/Project/google_analytics\")"
   ]
  },
  {
   "cell_type": "code",
   "execution_count": 2,
   "metadata": {
    "_cell_guid": "b1076dfc-b9ad-4769-8c92-a6c4dae69d19",
    "_kg_hide-input": true,
    "_uuid": "8f2839f25d086af736a60e9eeb907d3b93b6e0e5"
   },
   "outputs": [
    {
     "data": {
      "text/html": [
       "<script>requirejs.config({paths: { 'plotly': ['https://cdn.plot.ly/plotly-latest.min']},});if(!window.Plotly) {{require(['plotly'],function(plotly) {window.Plotly=plotly;});}}</script>"
      ],
      "text/vnd.plotly.v1+html": [
       "<script>requirejs.config({paths: { 'plotly': ['https://cdn.plot.ly/plotly-latest.min']},});if(!window.Plotly) {{require(['plotly'],function(plotly) {window.Plotly=plotly;});}}</script>"
      ]
     },
     "metadata": {},
     "output_type": "display_data"
    }
   ],
   "source": [
    "import os\n",
    "import json\n",
    "import numpy as np\n",
    "import pandas as pd\n",
    "from pandas.io.json import json_normalize\n",
    "import matplotlib.pyplot as plt\n",
    "import seaborn as sns\n",
    "from datetime import datetime\n",
    "color = sns.color_palette()\n",
    "\n",
    "%matplotlib inline\n",
    "\n",
    "from plotly import tools\n",
    "import plotly.offline as py\n",
    "py.init_notebook_mode(connected=True)\n",
    "import plotly.graph_objs as go\n",
    "\n",
    "from sklearn import model_selection, preprocessing, metrics\n",
    "from sklearn.feature_selection import f_classif\n",
    "#import lightgbm as lgb\n",
    "\n",
    "pd.options.mode.chained_assignment = None\n",
    "pd.options.display.max_columns = 999"
   ]
  },
  {
   "cell_type": "markdown",
   "metadata": {},
   "source": [
    "## read file"
   ]
  },
  {
   "cell_type": "code",
   "execution_count": 3,
   "metadata": {},
   "outputs": [],
   "source": [
    "processed_train_df = pd.read_csv(\"processed_train_df.csv\", dtype={'fullVisitorId': 'str'})\n",
    "processed_test_df = pd.read_csv(\"processed_test_df.csv\", dtype={'fullVisitorId': 'str'})"
   ]
  },
  {
   "cell_type": "code",
   "execution_count": 4,
   "metadata": {},
   "outputs": [],
   "source": [
    "processed_train_df = processed_train_df.drop('Unnamed: 0', axis=1)\n",
    "processed_test_df = processed_test_df.drop('Unnamed: 0', axis=1)"
   ]
  },
  {
   "cell_type": "markdown",
   "metadata": {},
   "source": [
    "### 5-fold"
   ]
  },
  {
   "cell_type": "code",
   "execution_count": null,
   "metadata": {},
   "outputs": [],
   "source": [
    "import random"
   ]
  },
  {
   "cell_type": "code",
   "execution_count": 14,
   "metadata": {},
   "outputs": [
    {
     "name": "stdout",
     "output_type": "stream",
     "text": [
      "714167\n"
     ]
    }
   ],
   "source": [
    "unique_visitorId = processed_train_df['fullVisitorId'].unique()\n",
    "random.seed(123)\n",
    "random.shuffle(unique_visitorId)\n",
    "no_cust = len(unique_visitorId)\n",
    "print(no_cust)"
   ]
  },
  {
   "cell_type": "code",
   "execution_count": 16,
   "metadata": {},
   "outputs": [],
   "source": [
    "fold = 5\n",
    "id_cv = []\n",
    "for i in range(fold):\n",
    "    if i<fold-1:\n",
    "        cur_cv = unique_visitorId[i*(no_cust//5):(i+1)*(no_cust//5)]\n",
    "    else:\n",
    "        cur_cv = unique_visitorId[i*(no_cust//5):no_cust]\n",
    "    id_cv.append(cur_cv)   "
   ]
  },
  {
   "cell_type": "markdown",
   "metadata": {},
   "source": [
    "### Run function for MSE and Testset prediction"
   ]
  },
  {
   "cell_type": "code",
   "execution_count": 17,
   "metadata": {},
   "outputs": [],
   "source": [
    "def getMse(x_tr, train, val, log_y_tr_pred, log_y_val_pred):\n",
    "    revenue = np.exp(log_y_tr_pred) - 1\n",
    "    id_list = list(train['fullVisitorId'])\n",
    "    \n",
    "    d = {'fullVisitorId':id_list, 'PredictedRevenue':revenue}\n",
    "    submit = pd.DataFrame(data=d)\n",
    "    col = ['fullVisitorId', 'PredictedRevenue']\n",
    "    submit = submit[col]\n",
    "    submit = pd.DataFrame(submit.groupby('fullVisitorId')[\"PredictedRevenue\"].sum().reset_index())\n",
    "    \n",
    "    \n",
    "    submit['PredictedLogRevenue'] = np.log1p(submit['PredictedRevenue'])\n",
    "    y_tr_pred = list(submit['PredictedLogRevenue'])\n",
    "    \n",
    "    y_train_sumrev = pd.DataFrame(train.groupby('fullVisitorId')[\"totals.transactionRevenue\"].sum().reset_index())\n",
    "    y_train_sumrev['totals.transactionRevenue'] = np.log1p(y_train_sumrev['totals.transactionRevenue'])\n",
    "    y_tr = list(y_train_sumrev['totals.transactionRevenue'])\n",
    "    \n",
    "    mse_tr = mean_squared_error(y_tr, y_tr_pred)\n",
    "    print('train_mse', mse_tr)\n",
    "    print('train_rmse', np.sqrt(mse_tr))\n",
    "\n",
    "    \n",
    "    revenue = np.exp(log_y_val_pred) - 1\n",
    "    id_list = list(val['fullVisitorId'])\n",
    "    \n",
    "    d = {'fullVisitorId':id_list, 'PredictedRevenue':revenue}\n",
    "    submit = pd.DataFrame(data=d)\n",
    "    col = ['fullVisitorId', 'PredictedRevenue']\n",
    "    submit = submit[col]\n",
    "    submit = pd.DataFrame(submit.groupby('fullVisitorId')[\"PredictedRevenue\"].sum().reset_index())\n",
    "    submit['PredictedLogRevenue'] = np.log1p(submit['PredictedRevenue'])\n",
    "    y_val_pred = list(submit['PredictedLogRevenue'])\n",
    "    \n",
    "    y_val_sumrev = pd.DataFrame(val.groupby('fullVisitorId')[\"totals.transactionRevenue\"].sum().reset_index())\n",
    "    y_val_sumrev['totals.transactionRevenue'] = np.log1p(y_val_sumrev['totals.transactionRevenue'])\n",
    "    y_val = list(y_val_sumrev['totals.transactionRevenue'])\n",
    "    \n",
    "    mse_val = mean_squared_error(y_val, y_val_pred)\n",
    "    \n",
    "    print('val_mse', mse_val)\n",
    "    print('val_rmse', np.sqrt(mse_val))\n",
    "    return mse_tr, mse_val\n",
    "\n"
   ]
  },
  {
   "cell_type": "code",
   "execution_count": 26,
   "metadata": {
    "_uuid": "a5b5bfe07053b8463ae09cb33d22e68704ec2366"
   },
   "outputs": [],
   "source": [
    "def testset_pred(model, filename):\n",
    "    x_tr = processed_train_df.iloc[:,2:]\n",
    "    y_tr = processed_train_df.iloc[:,1]\n",
    "    log_y_tr = np.log1p(y_tr)\n",
    "    model.fit(x_tr, log_y_tr)\n",
    "    \n",
    "    x_te = processed_test_df.iloc[:,1:]\n",
    "    te_id = processed_test_df.iloc[:,0]\n",
    "    y_te_pred = model.predict(x_te)\n",
    "    y_te_pred =[0 if i < 0 else i for i in y_te_pred]\n",
    "    revenue = np.exp(y_te_pred) - 1\n",
    "    \n",
    "    # Write submit file\n",
    "    d = {'fullVisitorId':te_id, 'PredictedLogRevenue':revenue}\n",
    "    submit = pd.DataFrame(data=d)\n",
    "    col = ['fullVisitorId', 'PredictedLogRevenue']\n",
    "    submit = submit[col]\n",
    "    submit = pd.DataFrame(submit.groupby('fullVisitorId')[\"PredictedLogRevenue\"].sum().reset_index())\n",
    "    submit['PredictedLogRevenue'] = np.log1p(submit['PredictedLogRevenue'])\n",
    "    print(submit.shape)\n",
    "    submit.head()\n",
    "    submit.to_csv(filename+'.csv', index=False)\n"
   ]
  },
  {
   "cell_type": "markdown",
   "metadata": {},
   "source": [
    "### Linear regression"
   ]
  },
  {
   "cell_type": "code",
   "execution_count": 19,
   "metadata": {},
   "outputs": [],
   "source": [
    "from sklearn.metrics import mean_squared_error\n",
    "from sklearn.linear_model import LinearRegression"
   ]
  },
  {
   "cell_type": "code",
   "execution_count": 20,
   "metadata": {
    "scrolled": true
   },
   "outputs": [
    {
     "name": "stdout",
     "output_type": "stream",
     "text": [
      "\n",
      "\n",
      "fold: 0\n",
      "train_mse 3.3688616415988126\n",
      "train_rmse 1.8354458972137568\n",
      "val_mse 3.3670805144069296\n",
      "val_rmse 1.834960630206253\n",
      "\n",
      "\n",
      "fold: 1\n",
      "train_mse 3.3559453584839813\n",
      "train_rmse 1.8319239499728097\n",
      "val_mse 3.412115877499077\n",
      "val_rmse 1.8471913483716507\n",
      "\n",
      "\n",
      "fold: 2\n",
      "train_mse 3.3634080097646457\n",
      "train_rmse 1.8339596532543037\n",
      "val_mse 3.3908413702120077\n",
      "val_rmse 1.841423734563017\n",
      "\n",
      "\n",
      "fold: 3\n",
      "train_mse 3.3813119703690826\n",
      "train_rmse 1.8388344053690866\n",
      "val_mse 3.317557888857866\n",
      "val_rmse 1.8214164512427864\n",
      "\n",
      "\n",
      "fold: 4\n",
      "train_mse 3.367557241473947\n",
      "train_rmse 1.835090526778978\n",
      "val_mse 3.3544963237283114\n",
      "val_rmse 1.831528411935865\n",
      "\n",
      "\n",
      "Average:\n",
      "train_mse_5fold 3.367416844338094\n",
      "train_rmse_5fold 1.8350508865177872\n",
      "val_mse_5fold 3.3684183949408384\n",
      "val_rmse_5fold 1.8353041152639142\n"
     ]
    }
   ],
   "source": [
    "train_mse = []\n",
    "train_rmse = []\n",
    "val_mse = []\n",
    "val_rmse = []\n",
    "\n",
    "for i in range(fold):\n",
    "    print('\\n\\nfold:', i)\n",
    "    val = processed_train_df[processed_train_df['fullVisitorId'].isin(id_cv[i])]\n",
    "    train = processed_train_df[~processed_train_df['fullVisitorId'].isin(id_cv[i])]\n",
    "    x_tr = train.iloc[:,2:]\n",
    "    y_tr = train.iloc[:,1]\n",
    "    log_y_tr = np.log1p(y_tr)\n",
    "    x_val = val.iloc[:,2:]\n",
    "    y_val = val.iloc[:,1]\n",
    "    log_y_val = np.log1p(y_val)\n",
    "    \n",
    "    # --- INSERT YOUR MODEL -----\n",
    "    model = LinearRegression().fit(x_tr, log_y_tr)\n",
    "    log_y_tr_pred = model.predict(x_tr)\n",
    "    # ---------------------------\n",
    "    \n",
    "    log_y_tr_pred = [0 if i < 0 else i for i in log_y_tr_pred]\n",
    "    log_y_val_pred = model.predict(x_val)\n",
    "    log_y_val_pred = [0 if i < 0 else i for i in log_y_val_pred]\n",
    "    \n",
    "    mse_tr, mse_val = getMse(x_tr, train, val, log_y_tr_pred, log_y_val_pred)\n",
    "    train_mse.append(mse_tr)\n",
    "    train_rmse.append(np.sqrt(mse_tr))\n",
    "    val_mse.append(mse_val)\n",
    "    val_rmse.append(np.sqrt(mse_val))\n",
    "\n",
    "\n",
    "print('\\n\\nAverage:')\n",
    "print('train_mse_5fold', np.mean(train_mse))\n",
    "print('train_rmse_5fold', np.mean(train_rmse))\n",
    "print('val_mse_5fold', np.mean(val_mse))\n",
    "print('val_rmse_5fold', np.mean(val_rmse))\n",
    "\n"
   ]
  },
  {
   "cell_type": "code",
   "execution_count": null,
   "metadata": {},
   "outputs": [],
   "source": [
    "# Testset prediction\n",
    "model = LinearRegression()\n",
    "filename = 'linreg'\n",
    "testset_pred(model, filename)"
   ]
  },
  {
   "cell_type": "markdown",
   "metadata": {},
   "source": [
    "### Polynomial Regression"
   ]
  },
  {
   "cell_type": "code",
   "execution_count": 21,
   "metadata": {},
   "outputs": [],
   "source": [
    "from sklearn.pipeline import Pipeline\n",
    "from sklearn.preprocessing import PolynomialFeatures"
   ]
  },
  {
   "cell_type": "code",
   "execution_count": 22,
   "metadata": {},
   "outputs": [
    {
     "name": "stdout",
     "output_type": "stream",
     "text": [
      "\n",
      "\n",
      "fold: 0\n",
      "train_mse 2.946886515764455\n",
      "train_rmse 1.7166497941526848\n",
      "val_mse 2.9821568880249196\n",
      "val_rmse 1.7268922630045338\n",
      "\n",
      "\n",
      "fold: 1\n",
      "train_mse 2.93871400791534\n",
      "train_rmse 1.7142677760243117\n",
      "val_mse 2.9974578863610244\n",
      "val_rmse 1.7313168070463085\n",
      "\n",
      "\n",
      "fold: 2\n",
      "train_mse 2.9456686275685318\n",
      "train_rmse 1.7162950292908652\n",
      "val_mse 2.9795638501076303\n",
      "val_rmse 1.7261413181161125\n",
      "\n",
      "\n",
      "fold: 3\n",
      "train_mse 2.9604085429955624\n",
      "train_rmse 1.7205837797083763\n",
      "val_mse 2.914674453888298\n",
      "val_rmse 1.7072417678490348\n",
      "\n",
      "\n",
      "fold: 4\n",
      "train_mse 2.9550621375684254\n",
      "train_rmse 1.71902941730746\n",
      "val_mse 2.9128125778127876\n",
      "val_rmse 1.7066963929805405\n",
      "\n",
      "\n",
      "Average:\n",
      "train_mse_5fold 2.949347966362463\n",
      "train_rmse_5fold 1.7173651592967396\n",
      "val_mse_5fold 2.957333131238932\n",
      "val_rmse_5fold 1.719657709799306\n"
     ]
    }
   ],
   "source": [
    "train_mse = []\n",
    "train_rmse = []\n",
    "val_mse = []\n",
    "val_rmse = []\n",
    "\n",
    "for i in range(fold):\n",
    "    print('\\n\\nfold:', i)\n",
    "    val = processed_train_df[processed_train_df['fullVisitorId'].isin(id_cv[i])]\n",
    "    train = processed_train_df[~processed_train_df['fullVisitorId'].isin(id_cv[i])]\n",
    "    x_tr = train.iloc[:,2:]\n",
    "    y_tr = train.iloc[:,1]\n",
    "    log_y_tr = np.log1p(y_tr)\n",
    "    x_val = val.iloc[:,2:]\n",
    "    y_val = val.iloc[:,1]\n",
    "    log_y_val = np.log1p(y_val)\n",
    "    \n",
    "    # --- INSERT YOUR MODEL -----\n",
    "    model_pipeline = Pipeline([('poly',PolynomialFeatures(degree=2)),\n",
    "                  ('linear', LinearRegression(fit_intercept=False))])\n",
    "    model = model_pipeline.fit(x_tr, log_y_tr)\n",
    "    log_y_tr_pred = model.predict(x_tr)\n",
    "    # ---------------------------\n",
    "    \n",
    "    log_y_tr_pred = [0 if i < 0 else i for i in log_y_tr_pred]\n",
    "    log_y_val_pred = model.predict(x_val)\n",
    "    log_y_val_pred = [0 if i < 0 else i for i in log_y_val_pred]\n",
    "    \n",
    "    mse_tr, mse_val = getMse(x_tr, train, val, log_y_tr_pred, log_y_val_pred)\n",
    "    train_mse.append(mse_tr)\n",
    "    train_rmse.append(np.sqrt(mse_tr))\n",
    "    val_mse.append(mse_val)\n",
    "    val_rmse.append(np.sqrt(mse_val))\n",
    "\n",
    "\n",
    "print('\\n\\nAverage:')\n",
    "print('train_mse_5fold', np.mean(train_mse))\n",
    "print('train_rmse_5fold', np.mean(train_rmse))\n",
    "print('val_mse_5fold', np.mean(val_mse))\n",
    "print('val_rmse_5fold', np.mean(val_rmse))\n",
    "\n",
    "\n"
   ]
  },
  {
   "cell_type": "code",
   "execution_count": null,
   "metadata": {},
   "outputs": [],
   "source": [
    "# Testset prediction\n",
    "model = Pipeline([('poly',PolynomialFeatures(degree=2)),\n",
    "                  ('linear', LinearRegression(fit_intercept=False))])\n",
    "filename = 'polyreg'\n",
    "testset_pred(model, filename)"
   ]
  },
  {
   "cell_type": "markdown",
   "metadata": {},
   "source": [
    "### Regression Tree"
   ]
  },
  {
   "cell_type": "code",
   "execution_count": 23,
   "metadata": {},
   "outputs": [],
   "source": [
    "from sklearn.tree import DecisionTreeRegressor\n",
    "import matplotlib.pyplot as plt"
   ]
  },
  {
   "cell_type": "code",
   "execution_count": 27,
   "metadata": {},
   "outputs": [
    {
     "name": "stdout",
     "output_type": "stream",
     "text": [
      "\n",
      "\n",
      "fold: 0\n",
      "train_mse 2.49313632902639\n",
      "train_rmse 1.5789668549486369\n",
      "val_mse 2.889406238725187\n",
      "val_rmse 1.6998253553601284\n",
      "\n",
      "\n",
      "fold: 1\n",
      "train_mse 2.4808600973933994\n",
      "train_rmse 1.5750746323248939\n",
      "val_mse 2.9277044337919076\n",
      "val_rmse 1.711053603424483\n",
      "\n",
      "\n",
      "fold: 2\n",
      "train_mse 2.4996003245842373\n",
      "train_rmse 1.5810124365684912\n",
      "val_mse 2.8806438875379197\n",
      "val_rmse 1.6972459714307528\n",
      "\n",
      "\n",
      "fold: 3\n",
      "train_mse 2.4929157881153308\n",
      "train_rmse 1.5788970163108582\n",
      "val_mse 2.8183075362512158\n",
      "val_rmse 1.6787815629947858\n",
      "\n",
      "\n",
      "fold: 4\n",
      "train_mse 2.492124668011695\n",
      "train_rmse 1.5786464670760503\n",
      "val_mse 2.857506791920797\n",
      "val_rmse 1.6904161593882132\n",
      "\n",
      "\n",
      "Average:\n",
      "train_mse_5fold 2.4917274414262107\n",
      "train_rmse_5fold 1.578519481445786\n",
      "val_mse_5fold 2.874713777645405\n",
      "val_rmse_5fold 1.6954645305196727\n"
     ]
    }
   ],
   "source": [
    "train_mse = []\n",
    "train_rmse = []\n",
    "val_mse = []\n",
    "val_rmse = []\n",
    "\n",
    "for i in range(fold):\n",
    "    print('\\n\\nfold:', i)\n",
    "    val = processed_train_df[processed_train_df['fullVisitorId'].isin(id_cv[i])]\n",
    "    train = processed_train_df[~processed_train_df['fullVisitorId'].isin(id_cv[i])]\n",
    "    x_tr = train.iloc[:,2:]\n",
    "    y_tr = train.iloc[:,1]\n",
    "    log_y_tr = np.log1p(y_tr)\n",
    "    x_val = val.iloc[:,2:]\n",
    "    y_val = val.iloc[:,1]\n",
    "    log_y_val = np.log1p(y_val)\n",
    "    \n",
    "    # --- INSERT YOUR MODEL -----\n",
    "    model = DecisionTreeRegressor(max_depth=10)\n",
    "    model.fit(x_tr, log_y_tr)\n",
    "    log_y_tr_pred = model.predict(x_tr)\n",
    "    # ---------------------------\n",
    "    \n",
    "    log_y_tr_pred = [0 if i < 0 else i for i in log_y_tr_pred]\n",
    "    log_y_val_pred = model.predict(x_val)\n",
    "    log_y_val_pred = [0 if i < 0 else i for i in log_y_val_pred]\n",
    "    \n",
    "    mse_tr, mse_val = getMse(x_tr, train, val, log_y_tr_pred, log_y_val_pred)\n",
    "    train_mse.append(mse_tr)\n",
    "    train_rmse.append(np.sqrt(mse_tr))\n",
    "    val_mse.append(mse_val)\n",
    "    val_rmse.append(np.sqrt(mse_val))\n",
    "\n",
    "\n",
    "print('\\n\\nAverage:')\n",
    "print('train_mse_5fold', np.mean(train_mse))\n",
    "print('train_rmse_5fold', np.mean(train_rmse))\n",
    "print('val_mse_5fold', np.mean(val_mse))\n",
    "print('val_rmse_5fold', np.mean(val_rmse))"
   ]
  },
  {
   "cell_type": "code",
   "execution_count": 28,
   "metadata": {},
   "outputs": [
    {
     "name": "stdout",
     "output_type": "stream",
     "text": [
      "(617242, 2)\n"
     ]
    }
   ],
   "source": [
    "# Testset prediction\n",
    "model = DecisionTreeRegressor(max_depth=10)\n",
    "filename = 'regtree'\n",
    "testset_pred(model, filename)"
   ]
  },
  {
   "cell_type": "code",
   "execution_count": null,
   "metadata": {},
   "outputs": [],
   "source": []
  }
 ],
 "metadata": {
  "kernelspec": {
   "display_name": "Python 3",
   "language": "python",
   "name": "python3"
  },
  "language_info": {
   "codemirror_mode": {
    "name": "ipython",
    "version": 3
   },
   "file_extension": ".py",
   "mimetype": "text/x-python",
   "name": "python",
   "nbconvert_exporter": "python",
   "pygments_lexer": "ipython3",
   "version": "3.5.5"
  }
 },
 "nbformat": 4,
 "nbformat_minor": 1
}
