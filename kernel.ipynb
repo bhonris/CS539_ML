{
  "cells": [
    {
      "metadata": {
        "_uuid": "8f2839f25d086af736a60e9eeb907d3b93b6e0e5",
        "_cell_guid": "b1076dfc-b9ad-4769-8c92-a6c4dae69d19",
        "trusted": true
      },
      "cell_type": "code",
      "source": "# This Python 3 environment comes with many helpful analytics libraries installed\n# It is defined by the kaggle/python docker image: https://github.com/kaggle/docker-python\n# For example, here's several helpful packages to load in \n\nimport numpy as np # linear algebra\nimport pandas as pd # data processing, CSV file I/O (e.g. pd.read_csv)\n\n# Input data files are available in the \"../input/\" directory.\n# For example, running this (by clicking run or pressing Shift+Enter) will list the files in the input directory\n\nimport os\nprint(os.listdir(\"../input\"))\n\n# Any results you write to the current directory are saved as output.",
      "execution_count": 12,
      "outputs": [
        {
          "output_type": "stream",
          "text": "['processed_test_df.csv', 'processed_train_df.csv']\n",
          "name": "stdout"
        }
      ]
    },
    {
      "metadata": {
        "_cell_guid": "79c7e3d0-c299-4dcb-8224-4455121ee9b0",
        "_uuid": "d629ff2d2480ee46fbb7e2d37f6b5fab8052498a",
        "trusted": true
      },
      "cell_type": "code",
      "source": "import numpy as np\nimport pandas as pd\n\ntrain_df = pd.read_csv(\"../input/processed_train_df.csv\")\ntest_df = pd.read_csv(\"../input/processed_test_df.csv\")",
      "execution_count": 13,
      "outputs": [
        {
          "output_type": "stream",
          "text": "/opt/conda/lib/python3.6/site-packages/IPython/core/interactiveshell.py:2785: DtypeWarning: Columns (1) have mixed types. Specify dtype option on import or set low_memory=False.\n  interactivity=interactivity, compiler=compiler, result=result)\n",
          "name": "stderr"
        }
      ]
    },
    {
      "metadata": {
        "trusted": true,
        "_uuid": "628ffe43973b05dc06e143ab7c3c6892b909ffcc"
      },
      "cell_type": "code",
      "source": "print(\"Trainning Set Shape: \" + str(train_df.shape))\nprint(\"Testing Set Shape: \" + str(test_df.shape))",
      "execution_count": 14,
      "outputs": [
        {
          "output_type": "stream",
          "text": "Trainning Set Shape: (903653, 23)\nTesting Set Shape: (804684, 22)\n",
          "name": "stdout"
        }
      ]
    },
    {
      "metadata": {
        "trusted": true,
        "_uuid": "24625bb98ef46de5d480c8967f9d58c0d6a31517"
      },
      "cell_type": "code",
      "source": "train_df.head()",
      "execution_count": 15,
      "outputs": [
        {
          "output_type": "execute_result",
          "execution_count": 15,
          "data": {
            "text/plain": "   Unnamed: 0           ...            cat.trafficSource.source\n0           0           ...                                 208\n1           1           ...                                 208\n2           2           ...                                 208\n3           3           ...                                 208\n4           4           ...                                 208\n\n[5 rows x 23 columns]",
            "text/html": "<div>\n<style scoped>\n    .dataframe tbody tr th:only-of-type {\n        vertical-align: middle;\n    }\n\n    .dataframe tbody tr th {\n        vertical-align: top;\n    }\n\n    .dataframe thead th {\n        text-align: right;\n    }\n</style>\n<table border=\"1\" class=\"dataframe\">\n  <thead>\n    <tr style=\"text-align: right;\">\n      <th></th>\n      <th>Unnamed: 0</th>\n      <th>fullVisitorId</th>\n      <th>totals.transactionRevenue</th>\n      <th>num.totals.hits</th>\n      <th>num.totals.pageviews</th>\n      <th>num.visitNumber</th>\n      <th>cat.date</th>\n      <th>cat.visitStartTime</th>\n      <th>cat.totals.bounces</th>\n      <th>cat.totals.newVisits</th>\n      <th>cat.channelGrouping</th>\n      <th>cat.device.operatingSystem</th>\n      <th>cat.geoNetwork.city</th>\n      <th>cat.geoNetwork.country</th>\n      <th>cat.geoNetwork.metro</th>\n      <th>cat.geoNetwork.networkDomain</th>\n      <th>cat.geoNetwork.region</th>\n      <th>cat.geoNetwork.subContinent</th>\n      <th>cat.trafficSource.campaign</th>\n      <th>cat.trafficSource.keyword</th>\n      <th>cat.trafficSource.medium</th>\n      <th>cat.trafficSource.referralPath</th>\n      <th>cat.trafficSource.source</th>\n    </tr>\n  </thead>\n  <tbody>\n    <tr>\n      <th>0</th>\n      <td>0</td>\n      <td>1131660440785968503</td>\n      <td>0.0</td>\n      <td>1</td>\n      <td>1.0</td>\n      <td>1</td>\n      <td>8</td>\n      <td>15</td>\n      <td>0</td>\n      <td>1</td>\n      <td>4</td>\n      <td>20</td>\n      <td>378</td>\n      <td>210</td>\n      <td>0</td>\n      <td>37454</td>\n      <td>193</td>\n      <td>21</td>\n      <td>4</td>\n      <td>11</td>\n      <td>5</td>\n      <td>3196</td>\n      <td>208</td>\n    </tr>\n    <tr>\n      <th>1</th>\n      <td>1</td>\n      <td>377306020877927890</td>\n      <td>0.0</td>\n      <td>1</td>\n      <td>1.0</td>\n      <td>1</td>\n      <td>8</td>\n      <td>5</td>\n      <td>0</td>\n      <td>1</td>\n      <td>4</td>\n      <td>7</td>\n      <td>955</td>\n      <td>12</td>\n      <td>122</td>\n      <td>10098</td>\n      <td>482</td>\n      <td>1</td>\n      <td>4</td>\n      <td>11</td>\n      <td>5</td>\n      <td>3196</td>\n      <td>208</td>\n    </tr>\n    <tr>\n      <th>2</th>\n      <td>2</td>\n      <td>3895546263509774583</td>\n      <td>0.0</td>\n      <td>1</td>\n      <td>1.0</td>\n      <td>1</td>\n      <td>8</td>\n      <td>1</td>\n      <td>0</td>\n      <td>1</td>\n      <td>4</td>\n      <td>20</td>\n      <td>475</td>\n      <td>185</td>\n      <td>0</td>\n      <td>38725</td>\n      <td>99</td>\n      <td>19</td>\n      <td>4</td>\n      <td>11</td>\n      <td>5</td>\n      <td>3196</td>\n      <td>208</td>\n    </tr>\n    <tr>\n      <th>3</th>\n      <td>3</td>\n      <td>4763447161404445595</td>\n      <td>0.0</td>\n      <td>1</td>\n      <td>1.0</td>\n      <td>1</td>\n      <td>8</td>\n      <td>5</td>\n      <td>0</td>\n      <td>1</td>\n      <td>4</td>\n      <td>6</td>\n      <td>955</td>\n      <td>94</td>\n      <td>122</td>\n      <td>38725</td>\n      <td>482</td>\n      <td>16</td>\n      <td>4</td>\n      <td>1607</td>\n      <td>5</td>\n      <td>3196</td>\n      <td>208</td>\n    </tr>\n    <tr>\n      <th>4</th>\n      <td>4</td>\n      <td>27294437909732085</td>\n      <td>0.0</td>\n      <td>1</td>\n      <td>1.0</td>\n      <td>2</td>\n      <td>8</td>\n      <td>13</td>\n      <td>0</td>\n      <td>0</td>\n      <td>4</td>\n      <td>1</td>\n      <td>955</td>\n      <td>217</td>\n      <td>122</td>\n      <td>38725</td>\n      <td>482</td>\n      <td>13</td>\n      <td>4</td>\n      <td>11</td>\n      <td>5</td>\n      <td>3196</td>\n      <td>208</td>\n    </tr>\n  </tbody>\n</table>\n</div>"
          },
          "metadata": {}
        }
      ]
    },
    {
      "metadata": {
        "trusted": true,
        "_uuid": "fe84c6148f24c86e264db4864fc6bdf381e10f59"
      },
      "cell_type": "code",
      "source": "nonzero_sample = train_df.loc[train_df[train_df['totals.transactionRevenue'] != 0.0].index]\n# nonzero_sample.head()\nzero_indices = train_df[train_df['totals.transactionRevenue'] == 0.0].index\nrandom_indices = np.random.choice(zero_indices, 11515, replace=False)\nzero_sample = train_df.loc[random_indices]\nprint(\"Zero Samples: \" + str(zero_sample.shape))\nprint(\"Non-Zero Samples: \" + str(nonzero_sample.shape))\n\nundersampled_train_df = pd.concat([nonzero_sample, zero_sample])\nprint(\"Undersampled Trainning Set: \" + str(undersampled_train_df.shape))\nundersampled_train_df.head()",
      "execution_count": 5,
      "outputs": [
        {
          "output_type": "stream",
          "text": "Zero Samples: (11515, 23)\nNon-Zero Samples: (11515, 23)\nUndersampled Trainning Set: (23030, 23)\n",
          "name": "stdout"
        },
        {
          "output_type": "execute_result",
          "execution_count": 5,
          "data": {
            "text/plain": "     Unnamed: 0           ...            cat.trafficSource.source\n752         752           ...                                   0\n753         753           ...                                 208\n799         799           ...                                 358\n802         802           ...                                 358\n859         859           ...                                 358\n\n[5 rows x 23 columns]",
            "text/html": "<div>\n<style scoped>\n    .dataframe tbody tr th:only-of-type {\n        vertical-align: middle;\n    }\n\n    .dataframe tbody tr th {\n        vertical-align: top;\n    }\n\n    .dataframe thead th {\n        text-align: right;\n    }\n</style>\n<table border=\"1\" class=\"dataframe\">\n  <thead>\n    <tr style=\"text-align: right;\">\n      <th></th>\n      <th>Unnamed: 0</th>\n      <th>fullVisitorId</th>\n      <th>totals.transactionRevenue</th>\n      <th>num.totals.hits</th>\n      <th>num.totals.pageviews</th>\n      <th>num.visitNumber</th>\n      <th>cat.date</th>\n      <th>cat.visitStartTime</th>\n      <th>cat.totals.bounces</th>\n      <th>cat.totals.newVisits</th>\n      <th>cat.channelGrouping</th>\n      <th>cat.device.operatingSystem</th>\n      <th>cat.geoNetwork.city</th>\n      <th>cat.geoNetwork.country</th>\n      <th>cat.geoNetwork.metro</th>\n      <th>cat.geoNetwork.networkDomain</th>\n      <th>cat.geoNetwork.region</th>\n      <th>cat.geoNetwork.subContinent</th>\n      <th>cat.trafficSource.campaign</th>\n      <th>cat.trafficSource.keyword</th>\n      <th>cat.trafficSource.medium</th>\n      <th>cat.trafficSource.referralPath</th>\n      <th>cat.trafficSource.source</th>\n    </tr>\n  </thead>\n  <tbody>\n    <tr>\n      <th>752</th>\n      <td>752</td>\n      <td>6194193421514403509</td>\n      <td>37860000.0</td>\n      <td>11</td>\n      <td>11.0</td>\n      <td>1</td>\n      <td>8</td>\n      <td>19</td>\n      <td>1</td>\n      <td>1</td>\n      <td>2</td>\n      <td>6</td>\n      <td>38</td>\n      <td>218</td>\n      <td>30</td>\n      <td>0</td>\n      <td>255</td>\n      <td>12</td>\n      <td>4</td>\n      <td>3327</td>\n      <td>0</td>\n      <td>3196</td>\n      <td>0</td>\n    </tr>\n    <tr>\n      <th>753</th>\n      <td>753</td>\n      <td>5327166854580374902</td>\n      <td>306670000.0</td>\n      <td>11</td>\n      <td>10.0</td>\n      <td>3</td>\n      <td>8</td>\n      <td>19</td>\n      <td>1</td>\n      <td>0</td>\n      <td>4</td>\n      <td>7</td>\n      <td>579</td>\n      <td>218</td>\n      <td>75</td>\n      <td>0</td>\n      <td>280</td>\n      <td>12</td>\n      <td>4</td>\n      <td>11</td>\n      <td>5</td>\n      <td>3196</td>\n      <td>208</td>\n    </tr>\n    <tr>\n      <th>799</th>\n      <td>799</td>\n      <td>8885051388942907862</td>\n      <td>68030000.0</td>\n      <td>13</td>\n      <td>11.0</td>\n      <td>7</td>\n      <td>8</td>\n      <td>14</td>\n      <td>1</td>\n      <td>0</td>\n      <td>6</td>\n      <td>6</td>\n      <td>579</td>\n      <td>218</td>\n      <td>75</td>\n      <td>0</td>\n      <td>280</td>\n      <td>12</td>\n      <td>4</td>\n      <td>3327</td>\n      <td>6</td>\n      <td>0</td>\n      <td>358</td>\n    </tr>\n    <tr>\n      <th>802</th>\n      <td>802</td>\n      <td>185467632009737931</td>\n      <td>26250000.0</td>\n      <td>13</td>\n      <td>12.0</td>\n      <td>6</td>\n      <td>8</td>\n      <td>19</td>\n      <td>1</td>\n      <td>0</td>\n      <td>6</td>\n      <td>20</td>\n      <td>540</td>\n      <td>218</td>\n      <td>100</td>\n      <td>0</td>\n      <td>73</td>\n      <td>12</td>\n      <td>4</td>\n      <td>3327</td>\n      <td>6</td>\n      <td>0</td>\n      <td>358</td>\n    </tr>\n    <tr>\n      <th>859</th>\n      <td>859</td>\n      <td>3244885836845029978</td>\n      <td>574150000.0</td>\n      <td>17</td>\n      <td>14.0</td>\n      <td>4</td>\n      <td>8</td>\n      <td>14</td>\n      <td>1</td>\n      <td>0</td>\n      <td>6</td>\n      <td>7</td>\n      <td>955</td>\n      <td>218</td>\n      <td>122</td>\n      <td>0</td>\n      <td>482</td>\n      <td>12</td>\n      <td>4</td>\n      <td>3327</td>\n      <td>6</td>\n      <td>0</td>\n      <td>358</td>\n    </tr>\n  </tbody>\n</table>\n</div>"
          },
          "metadata": {}
        }
      ]
    },
    {
      "metadata": {
        "trusted": true,
        "_uuid": "6aa54c81a9b083b59d77e69d8eed261621b0252e"
      },
      "cell_type": "code",
      "source": "from sklearn.preprocessing import MinMaxScaler\nfeatures = [item for item in list(train_df) if item not in ['Unnamed: 0', 'fullVisitorId', 'totals.transactionRevenue']]\n\n# Separating out the features\nx = train_df.loc[:, features]\n\n# Separating out the target\ny = train_df.loc[:, 'totals.transactionRevenue']\n\n# Standardizing the features\nx.loc[:, features] = MinMaxScaler().fit_transform(x.loc[:, features])\n\nprint(\"X Shape: \" + str(x.shape))\nx.head()",
      "execution_count": 16,
      "outputs": [
        {
          "output_type": "stream",
          "text": "/opt/conda/lib/python3.6/site-packages/sklearn/preprocessing/data.py:323: DataConversionWarning: Data with input dtype int64, float64 were all converted to float64 by MinMaxScaler.\n  return self.partial_fit(X, y)\n",
          "name": "stderr"
        },
        {
          "output_type": "stream",
          "text": "X Shape: (903653, 20)\n",
          "name": "stdout"
        },
        {
          "output_type": "execute_result",
          "execution_count": 16,
          "data": {
            "text/plain": "   num.totals.hits            ...             cat.trafficSource.source\n0              0.0            ...                             0.416834\n1              0.0            ...                             0.416834\n2              0.0            ...                             0.416834\n3              0.0            ...                             0.416834\n4              0.0            ...                             0.416834\n\n[5 rows x 20 columns]",
            "text/html": "<div>\n<style scoped>\n    .dataframe tbody tr th:only-of-type {\n        vertical-align: middle;\n    }\n\n    .dataframe tbody tr th {\n        vertical-align: top;\n    }\n\n    .dataframe thead th {\n        text-align: right;\n    }\n</style>\n<table border=\"1\" class=\"dataframe\">\n  <thead>\n    <tr style=\"text-align: right;\">\n      <th></th>\n      <th>num.totals.hits</th>\n      <th>num.totals.pageviews</th>\n      <th>num.visitNumber</th>\n      <th>cat.date</th>\n      <th>cat.visitStartTime</th>\n      <th>cat.totals.bounces</th>\n      <th>cat.totals.newVisits</th>\n      <th>cat.channelGrouping</th>\n      <th>cat.device.operatingSystem</th>\n      <th>cat.geoNetwork.city</th>\n      <th>cat.geoNetwork.country</th>\n      <th>cat.geoNetwork.metro</th>\n      <th>cat.geoNetwork.networkDomain</th>\n      <th>cat.geoNetwork.region</th>\n      <th>cat.geoNetwork.subContinent</th>\n      <th>cat.trafficSource.campaign</th>\n      <th>cat.trafficSource.keyword</th>\n      <th>cat.trafficSource.medium</th>\n      <th>cat.trafficSource.referralPath</th>\n      <th>cat.trafficSource.source</th>\n    </tr>\n  </thead>\n  <tbody>\n    <tr>\n      <th>0</th>\n      <td>0.0</td>\n      <td>0.002132</td>\n      <td>0.000000</td>\n      <td>0.727273</td>\n      <td>0.652174</td>\n      <td>0.0</td>\n      <td>1.0</td>\n      <td>0.571429</td>\n      <td>0.869565</td>\n      <td>0.395812</td>\n      <td>0.925110</td>\n      <td>0.0</td>\n      <td>0.892187</td>\n      <td>0.400415</td>\n      <td>0.954545</td>\n      <td>0.0</td>\n      <td>0.002040</td>\n      <td>0.833333</td>\n      <td>1.0</td>\n      <td>0.416834</td>\n    </tr>\n    <tr>\n      <th>1</th>\n      <td>0.0</td>\n      <td>0.002132</td>\n      <td>0.000000</td>\n      <td>0.727273</td>\n      <td>0.217391</td>\n      <td>0.0</td>\n      <td>1.0</td>\n      <td>0.571429</td>\n      <td>0.304348</td>\n      <td>1.000000</td>\n      <td>0.052863</td>\n      <td>1.0</td>\n      <td>0.240543</td>\n      <td>1.000000</td>\n      <td>0.045455</td>\n      <td>0.0</td>\n      <td>0.002040</td>\n      <td>0.833333</td>\n      <td>1.0</td>\n      <td>0.416834</td>\n    </tr>\n    <tr>\n      <th>2</th>\n      <td>0.0</td>\n      <td>0.002132</td>\n      <td>0.000000</td>\n      <td>0.727273</td>\n      <td>0.043478</td>\n      <td>0.0</td>\n      <td>1.0</td>\n      <td>0.571429</td>\n      <td>0.869565</td>\n      <td>0.497382</td>\n      <td>0.814978</td>\n      <td>0.0</td>\n      <td>0.922463</td>\n      <td>0.205394</td>\n      <td>0.863636</td>\n      <td>0.0</td>\n      <td>0.002040</td>\n      <td>0.833333</td>\n      <td>1.0</td>\n      <td>0.416834</td>\n    </tr>\n    <tr>\n      <th>3</th>\n      <td>0.0</td>\n      <td>0.002132</td>\n      <td>0.000000</td>\n      <td>0.727273</td>\n      <td>0.217391</td>\n      <td>0.0</td>\n      <td>1.0</td>\n      <td>0.571429</td>\n      <td>0.260870</td>\n      <td>1.000000</td>\n      <td>0.414097</td>\n      <td>1.0</td>\n      <td>0.922463</td>\n      <td>1.000000</td>\n      <td>0.727273</td>\n      <td>0.0</td>\n      <td>0.298089</td>\n      <td>0.833333</td>\n      <td>1.0</td>\n      <td>0.416834</td>\n    </tr>\n    <tr>\n      <th>4</th>\n      <td>0.0</td>\n      <td>0.002132</td>\n      <td>0.002538</td>\n      <td>0.727273</td>\n      <td>0.565217</td>\n      <td>0.0</td>\n      <td>0.0</td>\n      <td>0.571429</td>\n      <td>0.043478</td>\n      <td>1.000000</td>\n      <td>0.955947</td>\n      <td>1.0</td>\n      <td>0.922463</td>\n      <td>1.000000</td>\n      <td>0.590909</td>\n      <td>0.0</td>\n      <td>0.002040</td>\n      <td>0.833333</td>\n      <td>1.0</td>\n      <td>0.416834</td>\n    </tr>\n  </tbody>\n</table>\n</div>"
          },
          "metadata": {}
        }
      ]
    },
    {
      "metadata": {
        "trusted": true,
        "_uuid": "ee5e5ef0a52fbdbf69f20c594f8bb73ad0385838"
      },
      "cell_type": "code",
      "source": "from sklearn import datasets, linear_model\nfrom sklearn.model_selection import train_test_split\nfrom matplotlib import pyplot as plt\n\n# count = 0\n# for item in y:\n#     if item != 0:\n#         count += 1\n#     else:\n#         continue\n# print(\"Sample num with a non-zero revenue: \" + str(count))\n# print(y.iloc[971])\n\nlog_y = np.log1p(y)\nX_train, X_test, y_train, y_test = train_test_split(x, log_y, test_size=0.2)\nprint(\"X_train: \" + str(X_train.shape))\nprint(\"X_test: \" + str(X_test.shape))",
      "execution_count": 17,
      "outputs": [
        {
          "output_type": "stream",
          "text": "X_train: (722922, 20)\nX_test: (180731, 20)\n",
          "name": "stdout"
        }
      ]
    },
    {
      "metadata": {
        "trusted": true,
        "_uuid": "6913aeff2510818b0a819efdaafbd6030cca3ceb"
      },
      "cell_type": "code",
      "source": "from sklearn.decomposition import PCA\nimport matplotlib.pyplot as plt\n\npca = PCA(n_components=18)\npca.fit(X_train)\nplt.plot(np.cumsum(pca.explained_variance_ratio_))\nplt.xlabel('number of components')\nplt.ylabel('cumulative explained variance');\nplt.show()",
      "execution_count": 18,
      "outputs": [
        {
          "output_type": "display_data",
          "data": {
            "text/plain": "<Figure size 432x288 with 1 Axes>",
            "image/png": "[encoded data removed]"
          },
          "metadata": {}
        }
      ]
    },
    {
      "metadata": {
        "trusted": true,
        "_uuid": "cac7f823a0de0650ef2644fc9bbc174edc4428ac"
      },
      "cell_type": "code",
      "source": "pca_10 = PCA(n_components=10)\nPCA_X_train = pca_10.fit_transform(X_train)\nPCA_X_test = pca_10.fit_transform(X_test)\n\nPCA_X_train = pd.DataFrame(data = PCA_X_train, columns = [\"principal component %s\" % i for i in range(1, 11)])\nPCA_X_test = pd.DataFrame(data = PCA_X_test, columns = [\"principal component %s\" % i for i in range(1, 11)])\n\nprint(\"PCA_X_train Shape: \" + str(PCA_X_train.shape))\nprint(\"PCA_X_test Shape: \" + str(PCA_X_test.shape))",
      "execution_count": 19,
      "outputs": [
        {
          "output_type": "stream",
          "text": "PCA_X_train Shape: (722922, 10)\nPCA_X_test Shape: (180731, 10)\n",
          "name": "stdout"
        }
      ]
    },
    {
      "metadata": {
        "trusted": true,
        "_uuid": "65a5f1fdf8319f8a8b5147020a3905408b673d68"
      },
      "cell_type": "code",
      "source": "from sklearn.linear_model import LinearRegression\nfrom sklearn.metrics import mean_squared_error, r2_score\n\n# Create linear regression object\nLR = linear_model.LinearRegression()\n\n# Train the model using the training sets\nLR.fit(PCA_X_train, y_train)\n\n# Make predictions using the testing set\ny_pred = LR.predict(PCA_X_test)\n\n# The coefficients\nprint('Coefficients: \\n', LR.coef_)\n# The mean squared error\nprint(\"Mean squared error: %.2f\"\n      % mean_squared_error(y_test, y_pred))\n# Explained variance score: 1 is perfect prediction\nprint('Variance score: %.2f' % r2_score(y_test, y_pred))",
      "execution_count": 21,
      "outputs": [
        {
          "output_type": "stream",
          "text": "Coefficients: \n [ 0.18352579  0.23534053 -0.53311384  0.25189794  0.13979061  0.09605699\n -0.07966834  0.04835737 -0.12548911 -0.06598979]\nMean squared error: 3.80\nVariance score: 0.03\n",
          "name": "stdout"
        }
      ]
    },
    {
      "metadata": {
        "trusted": true,
        "_uuid": "ac9a411f0875a66c14487512366fa843f7f2664f"
      },
      "cell_type": "code",
      "source": "# Import the necessary modules and libraries\nimport numpy as np\nfrom sklearn.tree import DecisionTreeRegressor\nimport matplotlib.pyplot as plt\n\n# Fit regression model\nDTreg = DecisionTreeRegressor(max_depth=2)\nDTreg.fit(PCA_X_train, y_train)\n\n# Predict\nDTreg_y_pred = DTreg.predict(PCA_X_test)\n\n# The coefficients\n# print('Coefficients: \\n', DTreg.coef_)\n# The mean squared error\nprint(\"Mean squared error: %.2f\"\n      % mean_squared_error(y_test, DTreg_y_pred))\n# Explained variance score: 1 is perfect prediction\nprint('Variance score: %.2f' % r2_score(y_test, DTreg_y_pred))",
      "execution_count": 22,
      "outputs": [
        {
          "output_type": "stream",
          "text": "Mean squared error: 3.78\nVariance score: 0.04\n",
          "name": "stdout"
        }
      ]
    },
    {
      "metadata": {
        "trusted": true,
        "_uuid": "f6d02cd64df03ec3fa7499365d44972a926b03ea"
      },
      "cell_type": "code",
      "source": "",
      "execution_count": null,
      "outputs": []
    }
  ],
  "metadata": {
    "kernelspec": {
      "display_name": "Python 3",
      "language": "python",
      "name": "python3"
    },
    "language_info": {
      "name": "python",
      "version": "3.6.6",
      "mimetype": "text/x-python",
      "codemirror_mode": {
        "name": "ipython",
        "version": 3
      },
      "pygments_lexer": "ipython3",
      "nbconvert_exporter": "python",
      "file_extension": ".py"
    }
  },
  "nbformat": 4,
  "nbformat_minor": 1
}